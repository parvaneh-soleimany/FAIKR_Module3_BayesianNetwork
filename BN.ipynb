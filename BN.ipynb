{
 "cells": [
  {
   "cell_type": "code",
   "execution_count": 1,
   "id": "93397000",
   "metadata": {},
   "outputs": [
    {
     "name": "stdout",
     "output_type": "stream",
     "text": [
      "Requirement already satisfied: pgmpy in c:\\users\\psole\\.conda\\envs\\pgm\\lib\\site-packages (0.1.18)\n",
      "Requirement already satisfied: scikit-learn in c:\\users\\psole\\.conda\\envs\\pgm\\lib\\site-packages (from pgmpy) (1.0.2)\n",
      "Requirement already satisfied: joblib in c:\\users\\psole\\.conda\\envs\\pgm\\lib\\site-packages (from pgmpy) (1.1.0)\n",
      "Requirement already satisfied: scipy in c:\\users\\psole\\.conda\\envs\\pgm\\lib\\site-packages (from pgmpy) (1.8.0)\n",
      "Requirement already satisfied: statsmodels in c:\\users\\psole\\.conda\\envs\\pgm\\lib\\site-packages (from pgmpy) (0.13.2)\n",
      "Requirement already satisfied: tqdm in c:\\users\\psole\\.conda\\envs\\pgm\\lib\\site-packages (from pgmpy) (4.64.0)\n",
      "Requirement already satisfied: pandas in c:\\users\\psole\\.conda\\envs\\pgm\\lib\\site-packages (from pgmpy) (1.4.2)\n",
      "Requirement already satisfied: networkx in c:\\users\\psole\\.conda\\envs\\pgm\\lib\\site-packages (from pgmpy) (2.8)\n",
      "Requirement already satisfied: numpy in c:\\users\\psole\\.conda\\envs\\pgm\\lib\\site-packages (from pgmpy) (1.22.3)\n",
      "Requirement already satisfied: torch in c:\\users\\psole\\.conda\\envs\\pgm\\lib\\site-packages (from pgmpy) (1.11.0)\n",
      "Requirement already satisfied: pyparsing in c:\\users\\psole\\.conda\\envs\\pgm\\lib\\site-packages (from pgmpy) (3.0.4)\n",
      "Requirement already satisfied: python-dateutil>=2.8.1 in c:\\users\\psole\\.conda\\envs\\pgm\\lib\\site-packages (from pandas->pgmpy) (2.8.2)\n",
      "Requirement already satisfied: pytz>=2020.1 in c:\\users\\psole\\.conda\\envs\\pgm\\lib\\site-packages (from pandas->pgmpy) (2022.1)\n",
      "Requirement already satisfied: six>=1.5 in c:\\users\\psole\\.conda\\envs\\pgm\\lib\\site-packages (from python-dateutil>=2.8.1->pandas->pgmpy) (1.16.0)\n",
      "Requirement already satisfied: threadpoolctl>=2.0.0 in c:\\users\\psole\\.conda\\envs\\pgm\\lib\\site-packages (from scikit-learn->pgmpy) (3.1.0)\n",
      "Requirement already satisfied: patsy>=0.5.2 in c:\\users\\psole\\.conda\\envs\\pgm\\lib\\site-packages (from statsmodels->pgmpy) (0.5.2)\n",
      "Requirement already satisfied: packaging>=21.3 in c:\\users\\psole\\.conda\\envs\\pgm\\lib\\site-packages (from statsmodels->pgmpy) (21.3)\n",
      "Requirement already satisfied: typing-extensions in c:\\users\\psole\\.conda\\envs\\pgm\\lib\\site-packages (from torch->pgmpy) (4.1.1)\n",
      "Requirement already satisfied: colorama in c:\\users\\psole\\.conda\\envs\\pgm\\lib\\site-packages (from tqdm->pgmpy) (0.4.4)\n",
      "Note: you may need to restart the kernel to use updated packages.\n"
     ]
    }
   ],
   "source": [
    "#pip install pgmpy"
   ]
  },
  {
   "cell_type": "code",
   "execution_count": 1,
   "id": "986ba74d",
   "metadata": {},
   "outputs": [],
   "source": [
    "from pgmpy.models import BayesianNetwork\n",
    "from pgmpy.factors.discrete import TabularCPD\n",
    "import matplotlib.pyplot as plt"
   ]
  },
  {
   "cell_type": "code",
   "execution_count": 2,
   "id": "422a5b20",
   "metadata": {},
   "outputs": [
    {
     "name": "stdout",
     "output_type": "stream",
     "text": [
      "CPT of u1 ==>\n",
      "+-------+--------+--------+--------+--------+--------+--------+--------+--------+\n",
      "| u12   | u12(N) | u12(N) | u12(N) | u12(N) | u12(O) | u12(O) | u12(O) | u12(O) |\n",
      "+-------+--------+--------+--------+--------+--------+--------+--------+--------+\n",
      "| u9    | u9(N)  | u9(N)  | u9(O)  | u9(O)  | u9(N)  | u9(N)  | u9(O)  | u9(O)  |\n",
      "+-------+--------+--------+--------+--------+--------+--------+--------+--------+\n",
      "| u14   | u14(N) | u14(O) | u14(N) | u14(O) | u14(N) | u14(O) | u14(N) | u14(O) |\n",
      "+-------+--------+--------+--------+--------+--------+--------+--------+--------+\n",
      "| u1(N) | 0.45   | 0.3    | 0.4    | 0.25   | 0.4    | 0.3    | 0.35   | 0.3    |\n",
      "+-------+--------+--------+--------+--------+--------+--------+--------+--------+\n",
      "| u1(O) | 0.55   | 0.7    | 0.6    | 0.75   | 0.6    | 0.7    | 0.65   | 0.7    |\n",
      "+-------+--------+--------+--------+--------+--------+--------+--------+--------+ \n",
      "\n",
      "CPT of u2 ==>\n",
      "+-------+-----+\n",
      "| u2(N) | 0.4 |\n",
      "+-------+-----+\n",
      "| u2(O) | 0.6 |\n",
      "+-------+-----+ \n",
      "\n",
      "CPT of u3 ==>\n",
      "+-------+--------+--------+\n",
      "| u17   | u17(N) | u17(O) |\n",
      "+-------+--------+--------+\n",
      "| u3(N) | 0.3    | 0.15   |\n",
      "+-------+--------+--------+\n",
      "| u3(O) | 0.7    | 0.85   |\n",
      "+-------+--------+--------+ \n",
      "\n",
      "CPT of u4 ==>\n",
      "+-------+--------+--------+--------+--------+\n",
      "| u1    | u1(N)  | u1(N)  | u1(O)  | u1(O)  |\n",
      "+-------+--------+--------+--------+--------+\n",
      "| u16   | u16(N) | u16(O) | u16(N) | u16(O) |\n",
      "+-------+--------+--------+--------+--------+\n",
      "| u4(N) | 0.35   | 0.3    | 0.3    | 0.2    |\n",
      "+-------+--------+--------+--------+--------+\n",
      "| u4(O) | 0.65   | 0.7    | 0.7    | 0.8    |\n",
      "+-------+--------+--------+--------+--------+ \n",
      "\n",
      "CPT of u5 ==>\n",
      "+-------+--------+--------+--------+--------+--------+--------+--------+--------+\n",
      "| u2    | u2(N)  | u2(N)  | u2(N)  | u2(N)  | u2(O)  | u2(O)  | u2(O)  | u2(O)  |\n",
      "+-------+--------+--------+--------+--------+--------+--------+--------+--------+\n",
      "| u4    | u4(N)  | u4(N)  | u4(O)  | u4(O)  | u4(N)  | u4(N)  | u4(O)  | u4(O)  |\n",
      "+-------+--------+--------+--------+--------+--------+--------+--------+--------+\n",
      "| u10   | u10(N) | u10(O) | u10(N) | u10(O) | u10(N) | u10(O) | u10(N) | u10(O) |\n",
      "+-------+--------+--------+--------+--------+--------+--------+--------+--------+\n",
      "| u5(N) | 0.5    | 0.47   | 0.48   | 0.45   | 0.4    | 0.38   | 0.36   | 0.3    |\n",
      "+-------+--------+--------+--------+--------+--------+--------+--------+--------+\n",
      "| u5(O) | 0.5    | 0.53   | 0.52   | 0.55   | 0.6    | 0.62   | 0.64   | 0.7    |\n",
      "+-------+--------+--------+--------+--------+--------+--------+--------+--------+ \n",
      "\n",
      "CPT of u6 ==>\n",
      "+-------+--------+--------+--------+--------+--------+-----+--------+--------+--------+--------+--------+--------+\n",
      "| u17   | u17(N) | u17(N) | u17(N) | u17(N) | u17(N) | ... | u17(O) | u17(O) | u17(O) | u17(O) | u17(O) | u17(O) |\n",
      "+-------+--------+--------+--------+--------+--------+-----+--------+--------+--------+--------+--------+--------+\n",
      "| u12   | u12(N) | u12(N) | u12(N) | u12(N) | u12(N) | ... | u12(O) | u12(O) | u12(O) | u12(O) | u12(O) | u12(O) |\n",
      "+-------+--------+--------+--------+--------+--------+-----+--------+--------+--------+--------+--------+--------+\n",
      "| u2    | u2(N)  | u2(N)  | u2(N)  | u2(N)  | u2(O)  | ... | u2(N)  | u2(N)  | u2(O)  | u2(O)  | u2(O)  | u2(O)  |\n",
      "+-------+--------+--------+--------+--------+--------+-----+--------+--------+--------+--------+--------+--------+\n",
      "| u9    | u9(N)  | u9(N)  | u9(O)  | u9(O)  | u9(N)  | ... | u9(O)  | u9(O)  | u9(N)  | u9(N)  | u9(O)  | u9(O)  |\n",
      "+-------+--------+--------+--------+--------+--------+-----+--------+--------+--------+--------+--------+--------+\n",
      "| u13   | u13(N) | u13(O) | u13(N) | u13(O) | u13(N) | ... | u13(N) | u13(O) | u13(N) | u13(O) | u13(N) | u13(O) |\n",
      "+-------+--------+--------+--------+--------+--------+-----+--------+--------+--------+--------+--------+--------+\n",
      "| u6(N) | 0.5    | 0.47   | 0.46   | 0.44   | 0.4    | ... | 0.44   | 0.42   | 0.39   | 0.37   | 0.35   | 0.34   |\n",
      "+-------+--------+--------+--------+--------+--------+-----+--------+--------+--------+--------+--------+--------+\n",
      "| u6(O) | 0.5    | 0.53   | 0.54   | 0.56   | 0.6    | ... | 0.56   | 0.58   | 0.61   | 0.63   | 0.65   | 0.66   |\n",
      "+-------+--------+--------+--------+--------+--------+-----+--------+--------+--------+--------+--------+--------+ \n",
      "\n",
      "CPT of u7 ==>\n",
      "+-------+--------+--------+--------+--------+--------+-----+--------+--------+--------+--------+--------+--------+\n",
      "| u17   | u17(N) | u17(N) | u17(N) | u17(N) | u17(N) | ... | u17(O) | u17(O) | u17(O) | u17(O) | u17(O) | u17(O) |\n",
      "+-------+--------+--------+--------+--------+--------+-----+--------+--------+--------+--------+--------+--------+\n",
      "| u12   | u12(N) | u12(N) | u12(N) | u12(N) | u12(O) | ... | u12(N) | u12(N) | u12(O) | u12(O) | u12(O) | u12(O) |\n",
      "+-------+--------+--------+--------+--------+--------+-----+--------+--------+--------+--------+--------+--------+\n",
      "| u2    | u2(N)  | u2(N)  | u2(O)  | u2(O)  | u2(N)  | ... | u2(O)  | u2(O)  | u2(N)  | u2(N)  | u2(O)  | u2(O)  |\n",
      "+-------+--------+--------+--------+--------+--------+-----+--------+--------+--------+--------+--------+--------+\n",
      "| u9    | u9(N)  | u9(O)  | u9(N)  | u9(O)  | u9(N)  | ... | u9(N)  | u9(O)  | u9(N)  | u9(O)  | u9(N)  | u9(O)  |\n",
      "+-------+--------+--------+--------+--------+--------+-----+--------+--------+--------+--------+--------+--------+\n",
      "| u7(N) | 0.55   | 0.52   | 0.42   | 0.37   | 0.51   | ... | 0.39   | 0.37   | 0.49   | 0.48   | 0.37   | 0.35   |\n",
      "+-------+--------+--------+--------+--------+--------+-----+--------+--------+--------+--------+--------+--------+\n",
      "| u7(O) | 0.45   | 0.48   | 0.58   | 0.63   | 0.49   | ... | 0.61   | 0.63   | 0.51   | 0.52   | 0.63   | 0.65   |\n",
      "+-------+--------+--------+--------+--------+--------+-----+--------+--------+--------+--------+--------+--------+ \n",
      "\n",
      "CPT of u8 ==>\n",
      "+-------+--------+--------+--------+--------+--------+-----+--------+--------+--------+--------+--------+--------+\n",
      "| u17   | u17(N) | u17(N) | u17(N) | u17(N) | u17(N) | ... | u17(O) | u17(O) | u17(O) | u17(O) | u17(O) | u17(O) |\n",
      "+-------+--------+--------+--------+--------+--------+-----+--------+--------+--------+--------+--------+--------+\n",
      "| u12   | u12(N) | u12(N) | u12(N) | u12(N) | u12(O) | ... | u12(N) | u12(N) | u12(O) | u12(O) | u12(O) | u12(O) |\n",
      "+-------+--------+--------+--------+--------+--------+-----+--------+--------+--------+--------+--------+--------+\n",
      "| u2    | u2(N)  | u2(N)  | u2(O)  | u2(O)  | u2(N)  | ... | u2(O)  | u2(O)  | u2(N)  | u2(N)  | u2(O)  | u2(O)  |\n",
      "+-------+--------+--------+--------+--------+--------+-----+--------+--------+--------+--------+--------+--------+\n",
      "| u9    | u9(N)  | u9(O)  | u9(N)  | u9(O)  | u9(N)  | ... | u9(N)  | u9(O)  | u9(N)  | u9(O)  | u9(N)  | u9(O)  |\n",
      "+-------+--------+--------+--------+--------+--------+-----+--------+--------+--------+--------+--------+--------+\n",
      "| u8(N) | 0.51   | 0.48   | 0.4    | 0.37   | 0.49   | ... | 0.43   | 0.39   | 0.47   | 0.45   | 0.39   | 0.37   |\n",
      "+-------+--------+--------+--------+--------+--------+-----+--------+--------+--------+--------+--------+--------+\n",
      "| u8(O) | 0.49   | 0.52   | 0.6    | 0.63   | 0.51   | ... | 0.57   | 0.61   | 0.53   | 0.55   | 0.61   | 0.63   |\n",
      "+-------+--------+--------+--------+--------+--------+-----+--------+--------+--------+--------+--------+--------+ \n",
      "\n",
      "CPT of u9 ==>\n",
      "+-------+--------+--------+--------+--------+--------+--------+--------+--------+\n",
      "| u12   | u12(N) | u12(N) | u12(N) | u12(N) | u12(O) | u12(O) | u12(O) | u12(O) |\n",
      "+-------+--------+--------+--------+--------+--------+--------+--------+--------+\n",
      "| u14   | u14(N) | u14(N) | u14(O) | u14(O) | u14(N) | u14(N) | u14(O) | u14(O) |\n",
      "+-------+--------+--------+--------+--------+--------+--------+--------+--------+\n",
      "| u13   | u13(N) | u13(O) | u13(N) | u13(O) | u13(N) | u13(O) | u13(N) | u13(O) |\n",
      "+-------+--------+--------+--------+--------+--------+--------+--------+--------+\n",
      "| u9(N) | 0.52   | 0.5    | 0.51   | 0.48   | 0.5    | 0.43   | 0.45   | 0.4    |\n",
      "+-------+--------+--------+--------+--------+--------+--------+--------+--------+\n",
      "| u9(O) | 0.48   | 0.5    | 0.49   | 0.52   | 0.5    | 0.57   | 0.55   | 0.6    |\n",
      "+-------+--------+--------+--------+--------+--------+--------+--------+--------+ \n",
      "\n",
      "CPT of u10 ==>\n",
      "+--------+-------+-------+-------+-------+-------+-----+-------+-------+-------+-------+-------+-------+\n",
      "| u1     | u1(N) | u1(N) | u1(N) | u1(N) | u1(N) | ... | u1(O) | u1(O) | u1(O) | u1(O) | u1(O) | u1(O) |\n",
      "+--------+-------+-------+-------+-------+-------+-----+-------+-------+-------+-------+-------+-------+\n",
      "| u7     | u7(N) | u7(N) | u7(N) | u7(N) | u7(O) | ... | u7(N) | u7(N) | u7(O) | u7(O) | u7(O) | u7(O) |\n",
      "+--------+-------+-------+-------+-------+-------+-----+-------+-------+-------+-------+-------+-------+\n",
      "| u9     | u9(N) | u9(N) | u9(O) | u9(O) | u9(N) | ... | u9(O) | u9(O) | u9(N) | u9(N) | u9(O) | u9(O) |\n",
      "+--------+-------+-------+-------+-------+-------+-----+-------+-------+-------+-------+-------+-------+\n",
      "| u3     | u3(N) | u3(O) | u3(N) | u3(O) | u3(N) | ... | u3(N) | u3(O) | u3(N) | u3(O) | u3(N) | u3(O) |\n",
      "+--------+-------+-------+-------+-------+-------+-----+-------+-------+-------+-------+-------+-------+\n",
      "| u10(N) | 0.6   | 0.57  | 0.58  | 0.55  | 0.58  | ... | 0.54  | 0.51  | 0.5   | 0.48  | 0.49  | 0.46  |\n",
      "+--------+-------+-------+-------+-------+-------+-----+-------+-------+-------+-------+-------+-------+\n",
      "| u10(O) | 0.4   | 0.43  | 0.42  | 0.45  | 0.42  | ... | 0.46  | 0.49  | 0.5   | 0.52  | 0.51  | 0.54  |\n",
      "+--------+-------+-------+-------+-------+-------+-----+-------+-------+-------+-------+-------+-------+ \n",
      "\n",
      "CPT of u11 ==>\n",
      "+--------+-------+-------+-------+-------+\n",
      "| u9     | u9(N) | u9(N) | u9(O) | u9(O) |\n",
      "+--------+-------+-------+-------+-------+\n",
      "| u6     | u6(N) | u6(O) | u6(N) | u6(O) |\n",
      "+--------+-------+-------+-------+-------+\n",
      "| u11(N) | 0.63  | 0.55  | 0.58  | 0.5   |\n",
      "+--------+-------+-------+-------+-------+\n",
      "| u11(O) | 0.37  | 0.45  | 0.42  | 0.5   |\n",
      "+--------+-------+-------+-------+-------+ \n",
      "\n",
      "CPT of u12 ==>\n",
      "+--------+--------+--------+\n",
      "| u14    | u14(N) | u14(O) |\n",
      "+--------+--------+--------+\n",
      "| u12(N) | 0.8    | 0.4    |\n",
      "+--------+--------+--------+\n",
      "| u12(O) | 0.2    | 0.6    |\n",
      "+--------+--------+--------+ \n",
      "\n",
      "CPT of u13 ==>\n",
      "+--------+--------+--------+--------+--------+\n",
      "| u14    | u14(N) | u14(N) | u14(O) | u14(O) |\n",
      "+--------+--------+--------+--------+--------+\n",
      "| u12    | u12(N) | u12(O) | u12(N) | u12(O) |\n",
      "+--------+--------+--------+--------+--------+\n",
      "| u13(N) | 0.7    | 0.65   | 0.6    | 0.5    |\n",
      "+--------+--------+--------+--------+--------+\n",
      "| u13(O) | 0.3    | 0.35   | 0.4    | 0.5    |\n",
      "+--------+--------+--------+--------+--------+ \n",
      "\n",
      "CPT of u14 ==>\n",
      "+--------+------+\n",
      "| u14(N) | 0.95 |\n",
      "+--------+------+\n",
      "| u14(O) | 0.05 |\n",
      "+--------+------+ \n",
      "\n",
      "CPT of u15 ==>\n",
      "+--------+--------+--------+\n",
      "| u17    | u17(N) | u17(O) |\n",
      "+--------+--------+--------+\n",
      "| u15(N) | 0.7    | 0.5    |\n",
      "+--------+--------+--------+\n",
      "| u15(O) | 0.3    | 0.5    |\n",
      "+--------+--------+--------+ \n",
      "\n",
      "CPT of u16 ==>\n",
      "+--------+--------+--------+--------+--------+\n",
      "| u17    | u17(N) | u17(N) | u17(O) | u17(O) |\n",
      "+--------+--------+--------+--------+--------+\n",
      "| u15    | u15(N) | u15(O) | u15(N) | u15(O) |\n",
      "+--------+--------+--------+--------+--------+\n",
      "| u16(N) | 0.7    | 0.65   | 0.6    | 0.5    |\n",
      "+--------+--------+--------+--------+--------+\n",
      "| u16(O) | 0.3    | 0.35   | 0.4    | 0.5    |\n",
      "+--------+--------+--------+--------+--------+ \n",
      "\n",
      "CPT of u17 ==>\n",
      "+--------+-----+\n",
      "| u17(N) | 0.6 |\n",
      "+--------+-----+\n",
      "| u17(O) | 0.4 |\n",
      "+--------+-----+ \n",
      "\n"
     ]
    }
   ],
   "source": [
    "#u1  = 'physical discomfort and poor working environment of the staffs'\n",
    "#u2  = 'inaccurate work attitude and operation of the staffs'\n",
    "#u3  = 'staffs are lack of technical and knowledge during transportation processes'\n",
    "#u4  = 'staffs of goods manufacturer illegally overload or entrain the goods'\n",
    "#u5  = 'non-railway personnels illegal dangerous goods stealing'\n",
    "#u6  = 'failure of transportation equipment'\n",
    "#u7  = 'failure of dangerous goods storage equipment'\n",
    "#u8  = 'failure of loading and unloading equipment in the handling stations'\n",
    "#u9  = 'dangerous nature of the loaded and transported goods'\n",
    "#u10 = 'packaging of dangerous goods'\n",
    "#u11 = 'volume of the dangerous goods'\n",
    "#u12 = 'extreme weather condition'\n",
    "#u13 = 'railway lines condition'\n",
    "#u14 = 'sudden natural disaster'\n",
    "#u15 = 'failure of transportation laws and safety management'\n",
    "#u16 = 'failure of safety education management'\n",
    "#u17 = 'failure of Corporate Qualification Management'\n",
    "\n",
    "u1  = 'u1'\n",
    "u2  = 'u2'\n",
    "u3  = 'u3'\n",
    "u4  = 'u4'\n",
    "u5  = 'u5'\n",
    "u6  = 'u6'\n",
    "u7  = 'u7'\n",
    "u8  = 'u8'\n",
    "u9  = 'u9'\n",
    "u10 = 'u10'\n",
    "u11 = 'u11'\n",
    "u12 = 'u12'\n",
    "u13 = 'u13'\n",
    "u14 = 'u14'\n",
    "u15 = 'u15'\n",
    "u16 = 'u16'\n",
    "u17 = 'u17'\n",
    "\n",
    "model = BayesianNetwork([(u1,u4),(u1,u10),(u2,u8),(u2,u7),(u2,u6),(u2,u5),(u3,u10),(u4,u5),(u6,u11),(u7,u10),(u9,u11),(u9,u8),(u9,u7),(u9,u6),(u9,u10),(u9,u1),(u10,u5),(u12,u1),(u12,u13),(u12,u8),(u12,u7),(u12,u6),(u12,u9),(u13,u6),(u13,u9),(u14,u1),(u14,u9),(u14,u12),(u14,u13),(u15,u16),(u16,u4),(u17,u16),(u17,u8),(u17,u7),(u17,u6),(u17,u3),(u17,u15)])\n",
    "\n",
    "#Prior probabilites\n",
    "cpd_u2 = TabularCPD(variable=u2, variable_card=2, values=[[0.4], [0.6]], state_names={u2: ['N','O']})\n",
    "cpd_u14 = TabularCPD(variable=u14, variable_card=2, values=[[0.95], [0.05]], state_names={u14: ['N','O']})\n",
    "cpd_u17 = TabularCPD(variable=u17, variable_card=2, values=[[0.6], [0.4]], state_names={u17: ['N','O']})\n",
    "#Conditional Probabities\n",
    "cpd_u1 = TabularCPD(variable=u1, variable_card=2,\n",
    "                    values=[[0.45, 0.30, 0.40, 0.25, 0.40, 0.30, 0.35, 0.30],\n",
    "                            [0.55, 0.70, 0.60, 0.75, 0.60, 0.70, 0.65, 0.70]],\n",
    "                    evidence=[u12, u9, u14],\n",
    "                    evidence_card=[2, 2, 2],\n",
    "                    state_names={u1: ['N','O'], u12: ['N','O'], u9: ['N','O'], u14: ['N','O']})\n",
    "cpd_u3 = TabularCPD(variable=u3, variable_card=2,\n",
    "                    values=[[0.30, 0.15],\n",
    "                            [0.70, 0.85]],\n",
    "                    evidence=[u17],\n",
    "                    evidence_card=[2],\n",
    "                    state_names={u3: ['N','O'], u17: ['N','O']})\n",
    "cpd_u4 = TabularCPD(variable=u4, variable_card=2,\n",
    "                    values=[[0.35, 0.30, 0.30, 0.20],\n",
    "                            [0.65, 0.70, 0.70, 0.80]],\n",
    "                    evidence=[u1, u16],\n",
    "                    evidence_card=[2, 2],\n",
    "                    state_names={u4: ['N','O'], u1: ['N','O'], u16: ['N','O']})\n",
    "cpd_u5 = TabularCPD(variable=u5, variable_card=2,\n",
    "                    values=[[0.50, 0.47, 0.48, 0.45, 0.40, 0.38, 0.36, 0.30],\n",
    "                            [0.50, 0.53, 0.52, 0.55, 0.60, 0.62, 0.64, 0.70]],\n",
    "                    evidence=[u2, u4, u10],\n",
    "                    evidence_card=[2, 2, 2],\n",
    "                    state_names={u5: ['N','O'], u2: ['N','O'], u4: ['N','O'], u10: ['N','O']})\n",
    "cpd_u6 = TabularCPD(variable=u6, variable_card=2,\n",
    "                    values=[[0.50, 0.47, 0.46, 0.44, 0.40, 0.39, 0.37, 0.36, 0.49, 0.46, 0.45, 0.43, 0.39, 0.38, 0.36, 0.35, 0.49, 0.46, 0.45, 0.44, 0.39, 0.38, 0.37, 0.36, 0.48, 0.45, 0.44, 0.42, 0.39, 0.37, 0.35, 0.34],\n",
    "                            [0.50, 0.53, 0.54, 0.56, 0.60, 0.61, 0.63, 0.64, 0.51, 0.54, 0.55, 0.57, 0.61, 0.62, 0.64, 0.65, 0.51, 0.54, 0.55, 0.56, 0.61, 0.62, 0.63, 0.64, 0.52, 0.55, 0.56, 0.58, 0.61, 0.63, 0.65, 0.66]],\n",
    "                    evidence=[u17, u12, u2,u9,u13],\n",
    "                    evidence_card=[2, 2, 2, 2, 2],\n",
    "                    state_names={u6: ['N','O'], u17: ['N','O'], u12: ['N','O'], u2: ['N','O'], u9: ['N','O'], u13: ['N','O']})\n",
    "cpd_u7 = TabularCPD(variable=u7, variable_card=2,\n",
    "                    values=[[0.55, 0.52, 0.42, 0.37, 0.51, 0.50, 0.38, 0.36, 0.50, 0.48, 0.39, 0.37, 0.49, 0.48, 0.37, 0.35],\n",
    "                            [0.45, 0.48, 0.58, 0.63, 0.49, 0.50, 0.62, 0.64, 0.50, 0.52, 0.61, 0.63, 0.51, 0.52, 0.63, 0.65]],\n",
    "                    evidence=[u17, u12, u2, u9],\n",
    "                    evidence_card=[2, 2, 2, 2],\n",
    "                    state_names={u7: ['N','O'], u17: ['N','O'], u12: ['N','O'], u2: ['N','O'], u9: ['N','O']})\n",
    "cpd_u8 = TabularCPD(variable=u8, variable_card=2,\n",
    "                    values=[[0.51, 0.48, 0.40, 0.37, 0.49, 0.47, 0.37, 0.36, 0.50, 0.48, 0.43, 0.39, 0.47, 0.45, 0.39, 0.37],\n",
    "                            [0.49, 0.52, 0.60, 0.63, 0.51, 0.53, 0.63, 0.64, 0.50, 0.52, 0.57, 0.61, 0.53, 0.55, 0.61, 0.63]],\n",
    "                    evidence=[u17, u12, u2, u9],\n",
    "                    evidence_card=[2, 2, 2, 2],\n",
    "                    state_names={u8: ['N','O'], u17: ['N','O'], u12: ['N','O'], u2: ['N','O'], u9: ['N','O']})\n",
    "cpd_u9 = TabularCPD(variable=u9, variable_card=2,\n",
    "                    values=[[0.52, 0.50, 0.51, 0.48, 0.50, 0.43, 0.45, 0.40],\n",
    "                            [0.48, 0.50, 0.49, 0.52, 0.50, 0.57, 0.55, 0.60]],\n",
    "                    evidence=[u12, u14, u13],\n",
    "                    evidence_card=[2, 2, 2],\n",
    "                    state_names={u9: ['N','O'], u12: ['N','O'], u14: ['N','O'], u13: ['N','O']})\n",
    "cpd_u10 = TabularCPD(variable=u10, variable_card=2,\n",
    "                    values=[[0.60, 0.57, 0.58, 0.55, 0.58, 0.56, 0.49, 0.46, 0.55, 0.52, 0.54, 0.51, 0.50, 0.48, 0.49, 0.46],\n",
    "                            [0.40, 0.43, 0.42, 0.45, 0.42, 0.44, 0.51, 0.54, 0.45, 0.48, 0.46, 0.49, 0.50, 0.52, 0.51, 0.54]],\n",
    "                    evidence=[u1, u7, u9, u3],\n",
    "                    evidence_card=[2, 2, 2, 2],\n",
    "                    state_names={u10: ['N','O'], u1: ['N','O'], u7: ['N','O'], u9: ['N','O'], u3: ['N','O']})\n",
    "cpd_u11 = TabularCPD(variable=u11, variable_card=2,\n",
    "                    values=[[0.63, 0.55, 0.58, 0.50],\n",
    "                            [0.37, 0.45, 0.42, 0.50]],\n",
    "                    evidence=[u9, u6],\n",
    "                    evidence_card=[2, 2],\n",
    "                    state_names={u11: ['N','O'], u9: ['N','O'], u6: ['N','O']})\n",
    "cpd_u12 = TabularCPD(variable=u12, variable_card=2,\n",
    "                    values=[[0.80, 0.40],\n",
    "                            [0.20, 0.60]],\n",
    "                    evidence=[u14],\n",
    "                    evidence_card=[2],\n",
    "                    state_names={u12: ['N','O'], u14: ['N','O']})\n",
    "cpd_u13 = TabularCPD(variable=u13, variable_card=2,\n",
    "                    values=[[0.70, 0.65, 0.60, 0.50],\n",
    "                            [0.30, 0.35, 0.40, 0.50]],\n",
    "                    evidence=[u14, u12],\n",
    "                    evidence_card=[2, 2],\n",
    "                    state_names={u13: ['N','O'], u14: ['N','O'], u12: ['N','O']})\n",
    "cpd_u15 = TabularCPD(variable=u15, variable_card=2,\n",
    "                    values=[[0.70, 0.50],\n",
    "                            [0.30, 0.50]],\n",
    "                    evidence=[u17],\n",
    "                    evidence_card=[2],\n",
    "                    state_names={u15: ['N','O'], u17: ['N','O']})\n",
    "cpd_u16 = TabularCPD(variable=u16, variable_card=2,\n",
    "                    values=[[0.70, 0.65, 0.60, 0.50],\n",
    "                            [0.30, 0.35, 0.40, 0.50]],\n",
    "                    evidence=[u17, u15],\n",
    "                    evidence_card=[2, 2],\n",
    "                    state_names={u16: ['N','O'], u17: ['N','O'], u15: ['N','O']})\n",
    "\n",
    "\n",
    "model.add_cpds(cpd_u1,cpd_u2, cpd_u3, cpd_u4, cpd_u5, cpd_u6, cpd_u7, cpd_u8, cpd_u9, cpd_u10, cpd_u11, cpd_u12, cpd_u13, cpd_u14, cpd_u15, cpd_u16, cpd_u17)\n",
    "model.check_model()\n",
    "\n",
    "for cpds in model.get_cpds():\n",
    "    print(f'CPT of {cpds.variable} ==>')\n",
    "    print(cpds, '\\n')\n"
   ]
  },
  {
   "cell_type": "markdown",
   "id": "a34367af",
   "metadata": {},
   "source": [
    "In this section some samples of Flow of probabilistic influence have been shown."
   ]
  },
  {
   "cell_type": "code",
   "execution_count": 5,
   "id": "5dee0818",
   "metadata": {
    "scrolled": true
   },
   "outputs": [
    {
     "data": {
      "image/png": "[encoded data removed]",
      "text/plain": [
       "<Figure size 113.386x56.6929 with 1 Axes>"
      ]
     },
     "metadata": {},
     "output_type": "display_data"
    },
    {
     "name": "stdout",
     "output_type": "stream",
     "text": [
      "u12 ===> Extreme weather condition \n",
      "u13 ===> railway lines condition\n"
     ]
    }
   ],
   "source": [
    "# direct cause\n",
    "import daft\n",
    "import matplotlib.pyplot as plt\n",
    "from daft import PGM\n",
    "\n",
    "pgm = PGM(shape=[2, 1])\n",
    "pgm.add_node(daft.Node(u12, \"u12\", 1, 1))\n",
    "pgm.add_node(daft.Node(u13, \"u13\", 2, 1))\n",
    "pgm.add_edge(u12,u13)\n",
    "pgm.render()\n",
    "plt.show()\n",
    "print('u12 ===> Extreme weather condition', '\\nu13 ===> railway lines condition')\n"
   ]
  },
  {
   "cell_type": "code",
   "execution_count": 6,
   "id": "c3fbbeb7",
   "metadata": {},
   "outputs": [
    {
     "data": {
      "image/png": "[encoded data removed]",
      "text/plain": [
       "<Figure size 113.386x56.6929 with 1 Axes>"
      ]
     },
     "metadata": {},
     "output_type": "display_data"
    },
    {
     "name": "stdout",
     "output_type": "stream",
     "text": [
      "u14 ===> Sudden natural disaster \n"
     ]
    }
   ],
   "source": [
    "# direct effect\n",
    "pgm = PGM(shape=[2, 1])\n",
    "pgm.add_node(daft.Node(u12, \"u12\", 1, 1))\n",
    "pgm.add_node(daft.Node(u14, \"u14\", 2, 1))\n",
    "pgm.add_edge(u14,u12)\n",
    "pgm.render()\n",
    "plt.show()\n",
    "print('u14 ===> Sudden natural disaster ')\n"
   ]
  },
  {
   "cell_type": "code",
   "execution_count": 7,
   "id": "f4e4029e",
   "metadata": {},
   "outputs": [
    {
     "data": {
      "image/png": "[encoded data removed]",
      "text/plain": [
       "<Figure size 170.079x56.6929 with 1 Axes>"
      ]
     },
     "metadata": {},
     "output_type": "display_data"
    },
    {
     "name": "stdout",
     "output_type": "stream",
     "text": [
      "u12 ===> Extreme weather condition \n",
      "u13 ===> railway lines condition \n",
      "u6  ===> failure of transportation equipment\n"
     ]
    }
   ],
   "source": [
    "# CAUSAL TRAIL & evidential trail\n",
    "pgm = PGM(shape=[3, 1])\n",
    "pgm.add_node(daft.Node(u12, \"u12\", 1, 1))\n",
    "pgm.add_node(daft.Node(u13, \"u13\", 2, 1))\n",
    "pgm.add_node(daft.Node(u6, \"u6\", 3, 1))\n",
    "pgm.add_edge(u12,u13)\n",
    "pgm.add_edge(u13,u6)\n",
    "pgm.render()\n",
    "\n",
    "plt.show()\n",
    "print('u12 ===> Extreme weather condition', '\\nu13 ===> railway lines condition', '\\nu6  ===> failure of transportation equipment')"
   ]
  },
  {
   "cell_type": "code",
   "execution_count": 8,
   "id": "e497a2cb",
   "metadata": {},
   "outputs": [
    {
     "data": {
      "image/png": "[encoded data removed]",
      "text/plain": [
       "<Figure size 170.079x113.386 with 1 Axes>"
      ]
     },
     "metadata": {},
     "output_type": "display_data"
    },
    {
     "name": "stdout",
     "output_type": "stream",
     "text": [
      "u12 ===> Extreme weather condition \n",
      "u13 ===> railway lines condition \n",
      "u7  ===> failure of dangerous goods storage equipment\n"
     ]
    }
   ],
   "source": [
    "# common cause\n",
    "pgm = PGM(shape=[3, 2])\n",
    "pgm.add_node(daft.Node(u12, \"u12\", 2, 2))\n",
    "pgm.add_node(daft.Node(u13, \"u13\", 1, 1))\n",
    "pgm.add_node(daft.Node(u7, \"u7\", 3, 1))\n",
    "pgm.add_edge(u12,u13)\n",
    "pgm.add_edge(u12,u7)\n",
    "pgm.render()\n",
    "plt.show()\n",
    "print('u12 ===> Extreme weather condition', '\\nu13 ===> railway lines condition','\\nu7  ===> failure of dangerous goods storage equipment')\n"
   ]
  },
  {
   "cell_type": "code",
   "execution_count": 9,
   "id": "38ad7571",
   "metadata": {},
   "outputs": [
    {
     "name": "stdout",
     "output_type": "stream",
     "text": [
      "u12 ===> Extreme weather condition \n",
      "u9  ===> dangerous nature of the loaded and transported goods \n",
      "u7  ===> failure of dangerous goods storage equipment\n"
     ]
    },
    {
     "data": {
      "image/png": "[encoded data removed]",
      "text/plain": [
       "<Figure size 170.079x113.386 with 1 Axes>"
      ]
     },
     "metadata": {},
     "output_type": "display_data"
    }
   ],
   "source": [
    "# common effect\n",
    "pgm = PGM(shape=[3, 2])\n",
    "pgm.add_node(daft.Node(u12, \"u12\", 1, 2))\n",
    "pgm.add_node(daft.Node(u7, \"u7\", 2, 1))\n",
    "pgm.add_node(daft.Node(u9, \"u9\", 3, 2))\n",
    "\n",
    "pgm.add_edge(u9,u7)\n",
    "pgm.add_edge(u12,u7)\n",
    "pgm.render()\n",
    "print('u12 ===> Extreme weather condition','\\nu9  ===> dangerous nature of the loaded and transported goods','\\nu7  ===> failure of dangerous goods storage equipment')\n",
    "plt.show()"
   ]
  },
  {
   "cell_type": "markdown",
   "id": "ca0f95b7",
   "metadata": {},
   "source": [
    "independency: a variable is independent of non-descendant variables given its parents."
   ]
  },
  {
   "cell_type": "code",
   "execution_count": 224,
   "id": "c8844ef5",
   "metadata": {},
   "outputs": [
    {
     "name": "stdout",
     "output_type": "stream",
     "text": [
      "Local Independencies of u12 ==> (u12 ⟂ u16, u3, u2, u15, u17 | u14)\n",
      "Local Independencies of u2  ==> (u2 ⟂ u12, u9, u3, u14, u4, u17, u13, u15, u1, u16)\n",
      "Markov blanket of u12       ==> ['u9', 'u6', 'u14', 'u17', 'u7', 'u13', 'u2', 'u1', 'u8']\n",
      "Active Trails of node u2    ==> {'u2': {'u10', 'u11', 'u5', 'u6', 'u2', 'u8', 'u7'}}\n",
      "Active Trails of node u5    ==> {'u5': {'u10', 'u6', 'u4', 'u7', 'u13', 'u2', 'u1', 'u16', 'u12', 'u5', 'u9', 'u11', 'u3', 'u14', 'u17', 'u15', 'u8'}}\n",
      "Are u12 and u2 d-separated?  ==> True\n",
      "set()\n"
     ]
    }
   ],
   "source": [
    "print('Local Independencies of u12 ==>' , model.local_independencies([u12]))\n",
    "print('Local Independencies of u2  ==>' , model.local_independencies([u2]))\n",
    "print('Markov blanket of u12       ==>' , model.get_markov_blanket(u12))\n",
    "print('Active Trails of node u2    ==>' , model.active_trail_nodes([u2]))\n",
    "print('Active Trails of node u5    ==>' , model.active_trail_nodes([u5]))\n",
    "print('Are u12 and u2 d-separated?  ==>' , not(model.is_dconnected(u2, u1)))\n",
    "print(model.minimal_dseparator(start = u2, end = u1))"
   ]
  },
  {
   "cell_type": "code",
   "execution_count": 251,
   "id": "dd466747",
   "metadata": {},
   "outputs": [
    {
     "data": {
      "application/vnd.jupyter.widget-view+json": {
       "model_id": "8ca50f90399944fd966b3de7a0fc6a7d",
       "version_major": 2,
       "version_minor": 0
      },
      "text/plain": [
       "  0%|          | 0/1 [00:00<?, ?it/s]"
      ]
     },
     "metadata": {},
     "output_type": "display_data"
    },
    {
     "data": {
      "application/vnd.jupyter.widget-view+json": {
       "model_id": "8f023806dd664716b7fc56fdeb667f4e",
       "version_major": 2,
       "version_minor": 0
      },
      "text/plain": [
       "  0%|          | 0/1 [00:00<?, ?it/s]"
      ]
     },
     "metadata": {},
     "output_type": "display_data"
    },
    {
     "name": "stdout",
     "output_type": "stream",
     "text": [
      "+-------+-----------+\n",
      "| u3    |   phi(u3) |\n",
      "+=======+===========+\n",
      "| u3(N) |    0.2400 |\n",
      "+-------+-----------+\n",
      "| u3(O) |    0.7600 |\n",
      "+-------+-----------+\n"
     ]
    },
    {
     "data": {
      "application/vnd.jupyter.widget-view+json": {
       "model_id": "3eeca47f8e6344d595bd7711a3a7ef3e",
       "version_major": 2,
       "version_minor": 0
      },
      "text/plain": [
       "0it [00:00, ?it/s]"
      ]
     },
     "metadata": {},
     "output_type": "display_data"
    },
    {
     "data": {
      "application/vnd.jupyter.widget-view+json": {
       "model_id": "236367b267764bc9a5eb55360d0de6b4",
       "version_major": 2,
       "version_minor": 0
      },
      "text/plain": [
       "0it [00:00, ?it/s]"
      ]
     },
     "metadata": {},
     "output_type": "display_data"
    },
    {
     "name": "stdout",
     "output_type": "stream",
     "text": [
      "+-------+-----------+\n",
      "| u3    |   phi(u3) |\n",
      "+=======+===========+\n",
      "| u3(N) |    0.3000 |\n",
      "+-------+-----------+\n",
      "| u3(O) |    0.7000 |\n",
      "+-------+-----------+\n"
     ]
    },
    {
     "data": {
      "application/vnd.jupyter.widget-view+json": {
       "model_id": "cb2ef689c86e439db53dc13f6ea73395",
       "version_major": 2,
       "version_minor": 0
      },
      "text/plain": [
       "0it [00:00, ?it/s]"
      ]
     },
     "metadata": {},
     "output_type": "display_data"
    },
    {
     "data": {
      "application/vnd.jupyter.widget-view+json": {
       "model_id": "52c6f7aa1b994f989be0f38ce5fe3640",
       "version_major": 2,
       "version_minor": 0
      },
      "text/plain": [
       "0it [00:00, ?it/s]"
      ]
     },
     "metadata": {},
     "output_type": "display_data"
    },
    {
     "name": "stdout",
     "output_type": "stream",
     "text": [
      "+-------+-----------+\n",
      "| u3    |   phi(u3) |\n",
      "+=======+===========+\n",
      "| u3(N) |    0.1500 |\n",
      "+-------+-----------+\n",
      "| u3(O) |    0.8500 |\n",
      "+-------+-----------+\n"
     ]
    },
    {
     "data": {
      "application/vnd.jupyter.widget-view+json": {
       "model_id": "414e1c76c8b246ef8ece2d09504be463",
       "version_major": 2,
       "version_minor": 0
      },
      "text/plain": [
       "0it [00:00, ?it/s]"
      ]
     },
     "metadata": {},
     "output_type": "display_data"
    },
    {
     "data": {
      "application/vnd.jupyter.widget-view+json": {
       "model_id": "ed37e126f8794670b48ab6977762043e",
       "version_major": 2,
       "version_minor": 0
      },
      "text/plain": [
       "0it [00:00, ?it/s]"
      ]
     },
     "metadata": {},
     "output_type": "display_data"
    },
    {
     "name": "stdout",
     "output_type": "stream",
     "text": [
      "+-------+-----------+\n",
      "| u2    |   phi(u2) |\n",
      "+=======+===========+\n",
      "| u2(N) |    0.4000 |\n",
      "+-------+-----------+\n",
      "| u2(O) |    0.6000 |\n",
      "+-------+-----------+\n"
     ]
    },
    {
     "data": {
      "application/vnd.jupyter.widget-view+json": {
       "model_id": "6b3f39044c014a25a85ec0b7b4f00b5f",
       "version_major": 2,
       "version_minor": 0
      },
      "text/plain": [
       "  0%|          | 0/12 [00:00<?, ?it/s]"
      ]
     },
     "metadata": {},
     "output_type": "display_data"
    },
    {
     "data": {
      "application/vnd.jupyter.widget-view+json": {
       "model_id": "d308c4ee610d40b8b24dc8b79ea82817",
       "version_major": 2,
       "version_minor": 0
      },
      "text/plain": [
       "  0%|          | 0/12 [00:00<?, ?it/s]"
      ]
     },
     "metadata": {},
     "output_type": "display_data"
    },
    {
     "name": "stdout",
     "output_type": "stream",
     "text": [
      "+-------+-----------+\n",
      "| u2    |   phi(u2) |\n",
      "+=======+===========+\n",
      "| u2(N) |    0.4745 |\n",
      "+-------+-----------+\n",
      "| u2(O) |    0.5255 |\n",
      "+-------+-----------+\n"
     ]
    },
    {
     "data": {
      "application/vnd.jupyter.widget-view+json": {
       "model_id": "d2b884647a9b4d61b3a4eba97ab0a577",
       "version_major": 2,
       "version_minor": 0
      },
      "text/plain": [
       "  0%|          | 0/12 [00:00<?, ?it/s]"
      ]
     },
     "metadata": {},
     "output_type": "display_data"
    },
    {
     "data": {
      "application/vnd.jupyter.widget-view+json": {
       "model_id": "e03656082a314cdebb302d149c2c9e8b",
       "version_major": 2,
       "version_minor": 0
      },
      "text/plain": [
       "  0%|          | 0/12 [00:00<?, ?it/s]"
      ]
     },
     "metadata": {},
     "output_type": "display_data"
    },
    {
     "name": "stdout",
     "output_type": "stream",
     "text": [
      "+-------+-----------+\n",
      "| u2    |   phi(u2) |\n",
      "+=======+===========+\n",
      "| u2(N) |    0.5274 |\n",
      "+-------+-----------+\n",
      "| u2(O) |    0.4726 |\n",
      "+-------+-----------+\n"
     ]
    },
    {
     "data": {
      "application/vnd.jupyter.widget-view+json": {
       "model_id": "595ed1b2343949eca98d494e0ff10998",
       "version_major": 2,
       "version_minor": 0
      },
      "text/plain": [
       "  0%|          | 0/11 [00:00<?, ?it/s]"
      ]
     },
     "metadata": {},
     "output_type": "display_data"
    },
    {
     "data": {
      "application/vnd.jupyter.widget-view+json": {
       "model_id": "4d519916f6004629b1ecf2d5e245ac6f",
       "version_major": 2,
       "version_minor": 0
      },
      "text/plain": [
       "  0%|          | 0/11 [00:00<?, ?it/s]"
      ]
     },
     "metadata": {},
     "output_type": "display_data"
    },
    {
     "name": "stdout",
     "output_type": "stream",
     "text": [
      "+-------+-----------+\n",
      "| u2    |   phi(u2) |\n",
      "+=======+===========+\n",
      "| u2(N) |    0.5975 |\n",
      "+-------+-----------+\n",
      "| u2(O) |    0.4025 |\n",
      "+-------+-----------+\n"
     ]
    },
    {
     "data": {
      "application/vnd.jupyter.widget-view+json": {
       "model_id": "8147d36f15b94349b50fe9e2046fb2d8",
       "version_major": 2,
       "version_minor": 0
      },
      "text/plain": [
       "  0%|          | 0/11 [00:00<?, ?it/s]"
      ]
     },
     "metadata": {},
     "output_type": "display_data"
    },
    {
     "data": {
      "application/vnd.jupyter.widget-view+json": {
       "model_id": "6ae42e095780488ba1b87345620272e5",
       "version_major": 2,
       "version_minor": 0
      },
      "text/plain": [
       "  0%|          | 0/11 [00:00<?, ?it/s]"
      ]
     },
     "metadata": {},
     "output_type": "display_data"
    },
    {
     "name": "stdout",
     "output_type": "stream",
     "text": [
      "+-------+-----------+\n",
      "| u2    |   phi(u2) |\n",
      "+=======+===========+\n",
      "| u2(N) |    0.6501 |\n",
      "+-------+-----------+\n",
      "| u2(O) |    0.3499 |\n",
      "+-------+-----------+\n",
      "--- time of execution: 0.1054 seconds ---\n",
      "\n"
     ]
    },
    {
     "data": {
      "application/vnd.jupyter.widget-view+json": {
       "model_id": "68c94b28c1c84a04a12ea612e4e66234",
       "version_major": 2,
       "version_minor": 0
      },
      "text/plain": [
       "  0%|          | 0/11 [00:00<?, ?it/s]"
      ]
     },
     "metadata": {},
     "output_type": "display_data"
    },
    {
     "data": {
      "application/vnd.jupyter.widget-view+json": {
       "model_id": "b723234413f3486a99bc8068512ad027",
       "version_major": 2,
       "version_minor": 0
      },
      "text/plain": [
       "  0%|          | 0/11 [00:00<?, ?it/s]"
      ]
     },
     "metadata": {},
     "output_type": "display_data"
    },
    {
     "name": "stdout",
     "output_type": "stream",
     "text": [
      "+-------+-----------+\n",
      "| u2    |   phi(u2) |\n",
      "+=======+===========+\n",
      "| u2(N) |    0.6501 |\n",
      "+-------+-----------+\n",
      "| u2(O) |    0.3499 |\n",
      "+-------+-----------+\n",
      "--- time of execution: 0.1208 seconds ---\n",
      "\n"
     ]
    },
    {
     "data": {
      "application/vnd.jupyter.widget-view+json": {
       "model_id": "f4c397da72a3452ca7c0e49f4cfc2270",
       "version_major": 2,
       "version_minor": 0
      },
      "text/plain": [
       "  0%|          | 0/11 [00:00<?, ?it/s]"
      ]
     },
     "metadata": {},
     "output_type": "display_data"
    },
    {
     "data": {
      "application/vnd.jupyter.widget-view+json": {
       "model_id": "0c8f1cd6627045be95bd20b0067d6579",
       "version_major": 2,
       "version_minor": 0
      },
      "text/plain": [
       "  0%|          | 0/11 [00:00<?, ?it/s]"
      ]
     },
     "metadata": {},
     "output_type": "display_data"
    },
    {
     "name": "stdout",
     "output_type": "stream",
     "text": [
      "+-------+-----------+\n",
      "| u2    |   phi(u2) |\n",
      "+=======+===========+\n",
      "| u2(N) |    0.6501 |\n",
      "+-------+-----------+\n",
      "| u2(O) |    0.3499 |\n",
      "+-------+-----------+\n",
      "--- time of execution: 0.1443 seconds ---\n",
      "\n"
     ]
    },
    {
     "data": {
      "application/vnd.jupyter.widget-view+json": {
       "model_id": "5724c5b4c9184ca7a087a894826f5e8d",
       "version_major": 2,
       "version_minor": 0
      },
      "text/plain": [
       "  0%|          | 0/11 [00:00<?, ?it/s]"
      ]
     },
     "metadata": {},
     "output_type": "display_data"
    },
    {
     "data": {
      "application/vnd.jupyter.widget-view+json": {
       "model_id": "69162881296e4e2580f0d83b720521e2",
       "version_major": 2,
       "version_minor": 0
      },
      "text/plain": [
       "  0%|          | 0/11 [00:00<?, ?it/s]"
      ]
     },
     "metadata": {},
     "output_type": "display_data"
    },
    {
     "name": "stdout",
     "output_type": "stream",
     "text": [
      "+-------+-----------+\n",
      "| u2    |   phi(u2) |\n",
      "+=======+===========+\n",
      "| u2(N) |    0.6501 |\n",
      "+-------+-----------+\n",
      "| u2(O) |    0.3499 |\n",
      "+-------+-----------+\n",
      "--- time of execution: 0.1284 seconds ---\n",
      "\n"
     ]
    },
    {
     "data": {
      "application/vnd.jupyter.widget-view+json": {
       "model_id": "1401efa5ef7c48fabfc657c7a2c1e419",
       "version_major": 2,
       "version_minor": 0
      },
      "text/plain": [
       "  0%|          | 0/11 [00:00<?, ?it/s]"
      ]
     },
     "metadata": {},
     "output_type": "display_data"
    },
    {
     "data": {
      "application/vnd.jupyter.widget-view+json": {
       "model_id": "454d289915404365a7178edc358eb13f",
       "version_major": 2,
       "version_minor": 0
      },
      "text/plain": [
       "  0%|          | 0/11 [00:00<?, ?it/s]"
      ]
     },
     "metadata": {},
     "output_type": "display_data"
    },
    {
     "name": "stdout",
     "output_type": "stream",
     "text": [
      "+-------+-----------+\n",
      "| u2    |   phi(u2) |\n",
      "+=======+===========+\n",
      "| u2(N) |    0.6501 |\n",
      "+-------+-----------+\n",
      "| u2(O) |    0.3499 |\n",
      "+-------+-----------+\n",
      "--- time of execution: 0.0967 seconds ---\n",
      "\n"
     ]
    }
   ],
   "source": [
    "from pgmpy.inference import VariableElimination\n",
    "import time\n",
    "infer = VariableElimination(model)\n",
    "\n",
    "print(infer.query([u3]))\n",
    "print(infer.query([u3],evidence={u17: 'N'}))\n",
    "print(infer.query([u3],evidence={u17: 'O'}))\n",
    "\n",
    "print(infer.query([u2]))\n",
    "print(infer.query([u2],evidence={u5: 'N'}))\n",
    "print(infer.query([u2],evidence={u5: 'N', u6: 'N'}))\n",
    "print(infer.query([u2],evidence={u5: 'N', u6: 'N', u7: 'N'}))\n",
    "\n",
    "start_time = time.time()\n",
    "print(infer.query([u2],evidence={u5: 'N', u6: 'N', u7: 'N', u8: 'N'}))\n",
    "print(f'--- time of execution: {time.time() - start_time:0,.4f} seconds ---\\n')\n",
    "\n",
    "start_time = time.time()\n",
    "print(infer.query([u2],evidence={u5: 'N', u6: 'N', u7: 'N', u8: 'N'},elimination_order=\"MinNeighbors\"))\n",
    "print(f'--- time of execution: {time.time() - start_time:0,.4f} seconds ---\\n')\n",
    "\n",
    "start_time = time.time()\n",
    "print(infer.query([u2],evidence={u5: 'N', u6: 'N', u7: 'N', u8: 'N'},elimination_order=\"MinFill\"))\n",
    "print(f'--- time of execution: {time.time() - start_time:0,.4f} seconds ---\\n')\n",
    "\n",
    "start_time = time.time()\n",
    "print(infer.query([u2],evidence={u5: 'N', u6: 'N', u7: 'N', u8: 'N'},elimination_order=\"MinWeight\"))\n",
    "print(f'--- time of execution: {time.time() - start_time:0,.4f} seconds ---\\n')\n",
    "\n",
    "start_time = time.time()\n",
    "print(infer.query([u2],evidence={u5: 'N', u6: 'N', u7: 'N', u8: 'N'},elimination_order=\"WeightedMinFill\"))\n",
    "print(f'--- time of execution: {time.time() - start_time:0,.4f} seconds ---\\n')\n"
   ]
  },
  {
   "cell_type": "code",
   "execution_count": 110,
   "id": "4770f15a",
   "metadata": {},
   "outputs": [],
   "source": [
    "from pgmpy.inference import ApproxInference\n",
    "from pgmpy.sampling import BayesianModelSampling, GibbsSampling"
   ]
  },
  {
   "cell_type": "code",
   "execution_count": 119,
   "id": "a59393c9",
   "metadata": {},
   "outputs": [
    {
     "data": {
      "application/vnd.jupyter.widget-view+json": {
       "model_id": "f8480c28264b4fe2b3baa202e4ecadb4",
       "version_major": 2,
       "version_minor": 0
      },
      "text/plain": [
       "  0%|          | 0/17 [00:00<?, ?it/s]"
      ]
     },
     "metadata": {},
     "output_type": "display_data"
    },
    {
     "name": "stdout",
     "output_type": "stream",
     "text": [
      "+-------+-----------+\n",
      "| u6    |   phi(u6) |\n",
      "+=======+===========+\n",
      "| u6(N) |    0.5500 |\n",
      "+-------+-----------+\n",
      "| u6(O) |    0.4500 |\n",
      "+-------+-----------+\n"
     ]
    },
    {
     "name": "stderr",
     "output_type": "stream",
     "text": [
      "C:\\Users\\psole\\.conda\\envs\\pgm\\lib\\site-packages\\pgmpy\\models\\BayesianNetwork.py:1227: FutureWarning: Passing a set as an indexer is deprecated and will raise in a future version. Use a list instead.\n",
      "  return samples.loc[:, set(self.nodes()) - self.latents]\n"
     ]
    },
    {
     "data": {
      "application/vnd.jupyter.widget-view+json": {
       "model_id": "d969d46fe1df4a7eb82e0377a7e7ac5f",
       "version_major": 2,
       "version_minor": 0
      },
      "text/plain": [
       "  0%|          | 0/17 [00:00<?, ?it/s]"
      ]
     },
     "metadata": {},
     "output_type": "display_data"
    },
    {
     "name": "stdout",
     "output_type": "stream",
     "text": [
      "+-------+-----------+\n",
      "| u6    |   phi(u6) |\n",
      "+=======+===========+\n",
      "| u6(N) |    0.4040 |\n",
      "+-------+-----------+\n",
      "| u6(O) |    0.5960 |\n",
      "+-------+-----------+\n"
     ]
    },
    {
     "name": "stderr",
     "output_type": "stream",
     "text": [
      "C:\\Users\\psole\\.conda\\envs\\pgm\\lib\\site-packages\\pgmpy\\models\\BayesianNetwork.py:1227: FutureWarning: Passing a set as an indexer is deprecated and will raise in a future version. Use a list instead.\n",
      "  return samples.loc[:, set(self.nodes()) - self.latents]\n"
     ]
    },
    {
     "data": {
      "application/vnd.jupyter.widget-view+json": {
       "model_id": "f8eb75d84c6b4feba9643dd9de72ad3b",
       "version_major": 2,
       "version_minor": 0
      },
      "text/plain": [
       "  0%|          | 0/10000 [00:00<?, ?it/s]"
      ]
     },
     "metadata": {},
     "output_type": "display_data"
    },
    {
     "name": "stderr",
     "output_type": "stream",
     "text": [
      "C:\\Users\\psole\\.conda\\envs\\pgm\\lib\\site-packages\\pgmpy\\sampling\\Sampling.py:227: FutureWarning: The frame.append method is deprecated and will be removed from pandas in a future version. Use pandas.concat instead.\n",
      "  sampled = sampled.append(_sampled).iloc[:size, :]\n"
     ]
    },
    {
     "name": "stdout",
     "output_type": "stream",
     "text": [
      "+-------+-----------+\n",
      "| u6    |   phi(u6) |\n",
      "+=======+===========+\n",
      "| u6(N) |    0.4054 |\n",
      "+-------+-----------+\n",
      "| u6(O) |    0.5946 |\n",
      "+-------+-----------+\n"
     ]
    },
    {
     "name": "stderr",
     "output_type": "stream",
     "text": [
      "C:\\Users\\psole\\.conda\\envs\\pgm\\lib\\site-packages\\pgmpy\\sampling\\Sampling.py:227: FutureWarning: The frame.append method is deprecated and will be removed from pandas in a future version. Use pandas.concat instead.\n",
      "  sampled = sampled.append(_sampled).iloc[:size, :]\n",
      "C:\\Users\\psole\\.conda\\envs\\pgm\\lib\\site-packages\\pgmpy\\models\\BayesianNetwork.py:1227: FutureWarning: Passing a set as an indexer is deprecated and will raise in a future version. Use a list instead.\n",
      "  return samples.loc[:, set(self.nodes()) - self.latents]\n"
     ]
    }
   ],
   "source": [
    "# Sampling from an empty network\n",
    "infer1 = ApproxInference(model)\n",
    "print(infer1.query(variables=[u6], n_samples=20)) \n",
    "print(infer1.query(variables=[u6], n_samples=1000)) \n",
    "print(infer.query([u6],evidence={u13: 'O'}))"
   ]
  },
  {
   "cell_type": "code",
   "execution_count": 129,
   "id": "93f5f436",
   "metadata": {},
   "outputs": [
    {
     "data": {
      "application/vnd.jupyter.widget-view+json": {
       "model_id": "f65ed1d910d545b5b922b74a3dd186c9",
       "version_major": 2,
       "version_minor": 0
      },
      "text/plain": [
       "  0%|          | 0/17 [00:00<?, ?it/s]"
      ]
     },
     "metadata": {},
     "output_type": "display_data"
    },
    {
     "name": "stdout",
     "output_type": "stream",
     "text": [
      "+-------+-----------+\n",
      "| u6    |   phi(u6) |\n",
      "+=======+===========+\n",
      "| u6(N) |    0.2000 |\n",
      "+-------+-----------+\n",
      "| u6(O) |    0.8000 |\n",
      "+-------+-----------+\n"
     ]
    },
    {
     "data": {
      "application/vnd.jupyter.widget-view+json": {
       "model_id": "304e5a96b425410d8b494e1c3c55b934",
       "version_major": 2,
       "version_minor": 0
      },
      "text/plain": [
       "  0%|          | 0/17 [00:00<?, ?it/s]"
      ]
     },
     "metadata": {},
     "output_type": "display_data"
    },
    {
     "name": "stdout",
     "output_type": "stream",
     "text": [
      "+-------+-----------+\n",
      "| u6    |   phi(u6) |\n",
      "+=======+===========+\n",
      "| u6(N) |    0.4350 |\n",
      "+-------+-----------+\n",
      "| u6(O) |    0.5650 |\n",
      "+-------+-----------+\n"
     ]
    },
    {
     "data": {
      "application/vnd.jupyter.widget-view+json": {
       "model_id": "7992bd4ae37b4f6e9aac9daa739db4bd",
       "version_major": 2,
       "version_minor": 0
      },
      "text/plain": [
       "  0%|          | 0/17 [00:00<?, ?it/s]"
      ]
     },
     "metadata": {},
     "output_type": "display_data"
    },
    {
     "name": "stdout",
     "output_type": "stream",
     "text": [
      "+-------+-----------+\n",
      "| u6    |   phi(u6) |\n",
      "+=======+===========+\n",
      "| u6(N) |    0.1500 |\n",
      "+-------+-----------+\n",
      "| u6(O) |    0.8500 |\n",
      "+-------+-----------+\n"
     ]
    },
    {
     "data": {
      "application/vnd.jupyter.widget-view+json": {
       "model_id": "6ab8574ef2424da0a06e6e1d85f7463b",
       "version_major": 2,
       "version_minor": 0
      },
      "text/plain": [
       "  0%|          | 0/17 [00:00<?, ?it/s]"
      ]
     },
     "metadata": {},
     "output_type": "display_data"
    },
    {
     "name": "stdout",
     "output_type": "stream",
     "text": [
      "+-------+-----------+\n",
      "| u6    |   phi(u6) |\n",
      "+=======+===========+\n",
      "| u6(N) |    0.4290 |\n",
      "+-------+-----------+\n",
      "| u6(O) |    0.5710 |\n",
      "+-------+-----------+\n"
     ]
    },
    {
     "name": "stderr",
     "output_type": "stream",
     "text": [
      "C:\\Users\\psole\\.conda\\envs\\pgm\\lib\\site-packages\\pgmpy\\factors\\discrete\\DiscreteFactor.py:535: UserWarning: Found unknown state name. Trying to switch to using all state names as state numbers\n",
      "  warnings.warn(\n"
     ]
    },
    {
     "data": {
      "application/vnd.jupyter.widget-view+json": {
       "model_id": "516d4e27f69b437f9d90d1f35f266e40",
       "version_major": 2,
       "version_minor": 0
      },
      "text/plain": [
       "  0%|          | 0/19 [00:00<?, ?it/s]"
      ]
     },
     "metadata": {},
     "output_type": "display_data"
    },
    {
     "name": "stdout",
     "output_type": "stream",
     "text": [
      "+-------+-----------+\n",
      "| u6    |   phi(u6) |\n",
      "+=======+===========+\n",
      "| u6(0) |    0.3500 |\n",
      "+-------+-----------+\n",
      "| u6(1) |    0.6500 |\n",
      "+-------+-----------+\n"
     ]
    },
    {
     "name": "stderr",
     "output_type": "stream",
     "text": [
      "C:\\Users\\psole\\.conda\\envs\\pgm\\lib\\site-packages\\pgmpy\\utils\\mathext.py:83: UserWarning: Probability values don't exactly sum to 1. Differ by: 1.1102230246251565e-16. Adjusting values.\n",
      "  warn(\n",
      "C:\\Users\\psole\\.conda\\envs\\pgm\\lib\\site-packages\\pgmpy\\utils\\mathext.py:83: UserWarning: Probability values don't exactly sum to 1. Differ by: -2.220446049250313e-16. Adjusting values.\n",
      "  warn(\n",
      "C:\\Users\\psole\\.conda\\envs\\pgm\\lib\\site-packages\\pgmpy\\utils\\mathext.py:83: UserWarning: Probability values don't exactly sum to 1. Differ by: 2.220446049250313e-16. Adjusting values.\n",
      "  warn(\n"
     ]
    },
    {
     "data": {
      "application/vnd.jupyter.widget-view+json": {
       "model_id": "dc0ce5fc63ee4f16ac58cf6e8db33c4f",
       "version_major": 2,
       "version_minor": 0
      },
      "text/plain": [
       "  0%|          | 0/1999 [00:00<?, ?it/s]"
      ]
     },
     "metadata": {},
     "output_type": "display_data"
    },
    {
     "name": "stderr",
     "output_type": "stream",
     "text": [
      "C:\\Users\\psole\\.conda\\envs\\pgm\\lib\\site-packages\\pgmpy\\utils\\mathext.py:83: UserWarning: Probability values don't exactly sum to 1. Differ by: 1.1102230246251565e-16. Adjusting values.\n",
      "  warn(\n",
      "C:\\Users\\psole\\.conda\\envs\\pgm\\lib\\site-packages\\pgmpy\\utils\\mathext.py:83: UserWarning: Probability values don't exactly sum to 1. Differ by: -2.220446049250313e-16. Adjusting values.\n",
      "  warn(\n",
      "C:\\Users\\psole\\.conda\\envs\\pgm\\lib\\site-packages\\pgmpy\\utils\\mathext.py:83: UserWarning: Probability values don't exactly sum to 1. Differ by: 2.220446049250313e-16. Adjusting values.\n",
      "  warn(\n"
     ]
    },
    {
     "name": "stdout",
     "output_type": "stream",
     "text": [
      "+-------+-----------+\n",
      "| u6    |   phi(u6) |\n",
      "+=======+===========+\n",
      "| u6(0) |    0.4265 |\n",
      "+-------+-----------+\n",
      "| u6(1) |    0.5735 |\n",
      "+-------+-----------+\n"
     ]
    }
   ],
   "source": [
    "infer2 = BayesianModelSampling(model)\n",
    "# Likelihood Sampling:\n",
    "print(infer.get_distribution(infer2.likelihood_weighted_sample( size=20), [u6], joint=True))\n",
    "print(infer.get_distribution(infer2.likelihood_weighted_sample( size=1000), [u6], joint=True))\n",
    "# Rejection Sampling:\n",
    "print(infer.get_distribution(infer2.rejection_sample( size=20), [u6]))\n",
    "print(infer.get_distribution(infer2.rejection_sample( size=1000), [u6]))\n",
    "# Gibbs Sampling:\n",
    "gibbs = GibbsSampling(model)\n",
    "print(infer.get_distribution(gibbs.sample(size=20), [u6] ))\n",
    "print(infer.get_distribution(gibbs.sample(size=2000), [u6] ))"
   ]
  }
 ],
 "metadata": {
  "kernelspec": {
   "display_name": "Python 3 (ipykernel)",
   "language": "python",
   "name": "python3"
  },
  "language_info": {
   "codemirror_mode": {
    "name": "ipython",
    "version": 3
   },
   "file_extension": ".py",
   "mimetype": "text/x-python",
   "name": "python",
   "nbconvert_exporter": "python",
   "pygments_lexer": "ipython3",
   "version": "3.9.12"
  }
 },
 "nbformat": 4,
 "nbformat_minor": 5
}
